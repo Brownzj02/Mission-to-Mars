{
 "cells": [
  {
   "cell_type": "code",
   "execution_count": 4,
   "metadata": {},
   "outputs": [],
   "source": [
    "# Import Splinter, BeautifulSoup, and Pandas\n",
    "from splinter import Browser\n",
    "from bs4 import BeautifulSoup as soup\n",
    "import pandas as pd\n",
    "from webdriver_manager.chrome import ChromeDriverManager"
   ]
  },
  {
   "cell_type": "code",
   "execution_count": 5,
   "metadata": {},
   "outputs": [
    {
     "name": "stdout",
     "output_type": "stream",
     "text": [
      "\n"
     ]
    },
    {
     "name": "stderr",
     "output_type": "stream",
     "text": [
      "[WDM] - ====== WebDriver manager ======\n",
      "[WDM] - Current google-chrome version is 102.0.5005\n",
      "[WDM] - Get LATEST chromedriver version for 102.0.5005 google-chrome\n",
      "[WDM] - Driver [C:\\Users\\zanab\\.wdm\\drivers\\chromedriver\\win32\\102.0.5005.61\\chromedriver.exe] found in cache\n"
     ]
    }
   ],
   "source": [
    "# Set the executable path and initialize Splinter\n",
    "executable_path = {'executable_path': ChromeDriverManager().install()}\n",
    "browser = Browser('chrome', **executable_path, headless=False)"
   ]
  },
  {
   "cell_type": "markdown",
   "metadata": {},
   "source": [
    "### Visit the NASA Mars News Site"
   ]
  },
  {
   "cell_type": "code",
   "execution_count": 6,
   "metadata": {},
   "outputs": [
    {
     "ename": "NoSuchWindowException",
     "evalue": "Message: no such window: target window already closed\nfrom unknown error: web view not found\n  (Session info: chrome=102.0.5005.115)\nStacktrace:\nBacktrace:\n\tOrdinal0 [0x00C2D953+2414931]\n\tOrdinal0 [0x00BBF5E1+1963489]\n\tOrdinal0 [0x00AAC6B8+837304]\n\tOrdinal0 [0x00A94120+737568]\n\tOrdinal0 [0x00AF6E29+1142313]\n\tOrdinal0 [0x00B03FB2+1195954]\n\tOrdinal0 [0x00AF42B6+1131190]\n\tOrdinal0 [0x00ACE860+976992]\n\tOrdinal0 [0x00ACF756+980822]\n\tGetHandleVerifier [0x00E9CC62+2510274]\n\tGetHandleVerifier [0x00E8F760+2455744]\n\tGetHandleVerifier [0x00CBEABA+551962]\n\tGetHandleVerifier [0x00CBD916+547446]\n\tOrdinal0 [0x00BC5F3B+1990459]\n\tOrdinal0 [0x00BCA898+2009240]\n\tOrdinal0 [0x00BCA985+2009477]\n\tOrdinal0 [0x00BD3AD1+2046673]\n\tBaseThreadInitThunk [0x767A6739+25]\n\tRtlGetFullPathName_UEx [0x77D08FEF+1215]\n\tRtlGetFullPathName_UEx [0x77D08FBD+1165]\n",
     "output_type": "error",
     "traceback": [
      "\u001b[1;31m---------------------------------------------------------------------------\u001b[0m",
      "\u001b[1;31mNoSuchWindowException\u001b[0m                     Traceback (most recent call last)",
      "\u001b[1;32mc:\\Users\\zanab\\OneDrive\\Desktop\\msu\\hw\\10\\Mission-to-Mars\\Mission_to_Mars_Challenge_starter_code.ipynb Cell 4'\u001b[0m in \u001b[0;36m<cell line: 6>\u001b[1;34m()\u001b[0m\n\u001b[0;32m      <a href='vscode-notebook-cell:/c%3A/Users/zanab/OneDrive/Desktop/msu/hw/10/Mission-to-Mars/Mission_to_Mars_Challenge_starter_code.ipynb#ch0000003?line=2'>3</a>\u001b[0m browser\u001b[39m.\u001b[39mvisit(url)\n\u001b[0;32m      <a href='vscode-notebook-cell:/c%3A/Users/zanab/OneDrive/Desktop/msu/hw/10/Mission-to-Mars/Mission_to_Mars_Challenge_starter_code.ipynb#ch0000003?line=4'>5</a>\u001b[0m \u001b[39m# Optional delay for loading the page\u001b[39;00m\n\u001b[1;32m----> <a href='vscode-notebook-cell:/c%3A/Users/zanab/OneDrive/Desktop/msu/hw/10/Mission-to-Mars/Mission_to_Mars_Challenge_starter_code.ipynb#ch0000003?line=5'>6</a>\u001b[0m browser\u001b[39m.\u001b[39;49mis_element_present_by_css(\u001b[39m'\u001b[39;49m\u001b[39mdiv.list_text\u001b[39;49m\u001b[39m'\u001b[39;49m, wait_time\u001b[39m=\u001b[39;49m\u001b[39m1\u001b[39;49m)\n",
      "File \u001b[1;32mc:\\Users\\zanab\\anaconda3\\envs\\PythonData\\lib\\site-packages\\splinter\\driver\\webdriver\\__init__.py:381\u001b[0m, in \u001b[0;36mBaseWebDriver.is_element_present_by_css\u001b[1;34m(self, css_selector, wait_time)\u001b[0m\n\u001b[0;32m    380\u001b[0m \u001b[39mdef\u001b[39;00m \u001b[39mis_element_present_by_css\u001b[39m(\u001b[39mself\u001b[39m, css_selector, wait_time\u001b[39m=\u001b[39m\u001b[39mNone\u001b[39;00m):\n\u001b[1;32m--> 381\u001b[0m     \u001b[39mreturn\u001b[39;00m \u001b[39mself\u001b[39;49m\u001b[39m.\u001b[39;49mis_element_present(\u001b[39mself\u001b[39;49m\u001b[39m.\u001b[39;49mfind_by_css, css_selector, wait_time)\n",
      "File \u001b[1;32mc:\\Users\\zanab\\anaconda3\\envs\\PythonData\\lib\\site-packages\\splinter\\driver\\webdriver\\__init__.py:367\u001b[0m, in \u001b[0;36mBaseWebDriver.is_element_present\u001b[1;34m(self, finder, selector, wait_time)\u001b[0m\n\u001b[0;32m    364\u001b[0m end_time \u001b[39m=\u001b[39m time\u001b[39m.\u001b[39mtime() \u001b[39m+\u001b[39m wait_time\n\u001b[0;32m    366\u001b[0m \u001b[39mwhile\u001b[39;00m time\u001b[39m.\u001b[39mtime() \u001b[39m<\u001b[39m end_time:\n\u001b[1;32m--> 367\u001b[0m     \u001b[39mif\u001b[39;00m finder(selector, wait_time\u001b[39m=\u001b[39;49mwait_time):\n\u001b[0;32m    368\u001b[0m         \u001b[39mreturn\u001b[39;00m \u001b[39mTrue\u001b[39;00m\n\u001b[0;32m    369\u001b[0m \u001b[39mreturn\u001b[39;00m \u001b[39mFalse\u001b[39;00m\n",
      "File \u001b[1;32mc:\\Users\\zanab\\anaconda3\\envs\\PythonData\\lib\\site-packages\\splinter\\driver\\webdriver\\__init__.py:533\u001b[0m, in \u001b[0;36mBaseWebDriver.find_by_css\u001b[1;34m(self, css_selector, wait_time)\u001b[0m\n\u001b[0;32m    532\u001b[0m \u001b[39mdef\u001b[39;00m \u001b[39mfind_by_css\u001b[39m(\u001b[39mself\u001b[39m, css_selector, wait_time\u001b[39m=\u001b[39m\u001b[39mNone\u001b[39;00m):\n\u001b[1;32m--> 533\u001b[0m     \u001b[39mreturn\u001b[39;00m \u001b[39mself\u001b[39;49m\u001b[39m.\u001b[39;49mfind_by(\n\u001b[0;32m    534\u001b[0m         \u001b[39mself\u001b[39;49m\u001b[39m.\u001b[39;49mdriver\u001b[39m.\u001b[39;49mfind_elements_by_css_selector,\n\u001b[0;32m    535\u001b[0m         css_selector,\n\u001b[0;32m    536\u001b[0m         original_find\u001b[39m=\u001b[39;49m\u001b[39m\"\u001b[39;49m\u001b[39mcss\u001b[39;49m\u001b[39m\"\u001b[39;49m,\n\u001b[0;32m    537\u001b[0m         original_query\u001b[39m=\u001b[39;49mcss_selector,\n\u001b[0;32m    538\u001b[0m         wait_time\u001b[39m=\u001b[39;49mwait_time,\n\u001b[0;32m    539\u001b[0m     )\n",
      "File \u001b[1;32mc:\\Users\\zanab\\anaconda3\\envs\\PythonData\\lib\\site-packages\\splinter\\driver\\webdriver\\__init__.py:274\u001b[0m, in \u001b[0;36mfind_by\u001b[1;34m(self, finder, selector, original_find, original_query, wait_time)\u001b[0m\n\u001b[0;32m    271\u001b[0m end_time \u001b[39m=\u001b[39m time\u001b[39m.\u001b[39mtime() \u001b[39m+\u001b[39m wait_time\n\u001b[0;32m    273\u001b[0m \u001b[39mwhile\u001b[39;00m time\u001b[39m.\u001b[39mtime() \u001b[39m<\u001b[39m end_time:\n\u001b[1;32m--> 274\u001b[0m     elem_list \u001b[39m=\u001b[39m _find(\u001b[39mself\u001b[39;49m, finder, selector)\n\u001b[0;32m    276\u001b[0m     \u001b[39mif\u001b[39;00m elem_list:\n\u001b[0;32m    277\u001b[0m         \u001b[39mbreak\u001b[39;00m\n",
      "File \u001b[1;32mc:\\Users\\zanab\\anaconda3\\envs\\PythonData\\lib\\site-packages\\splinter\\driver\\webdriver\\__init__.py:233\u001b[0m, in \u001b[0;36m_find\u001b[1;34m(self, finder, selector)\u001b[0m\n\u001b[0;32m    230\u001b[0m elem_list \u001b[39m=\u001b[39m []\n\u001b[0;32m    232\u001b[0m \u001b[39mtry\u001b[39;00m:\n\u001b[1;32m--> 233\u001b[0m     elements \u001b[39m=\u001b[39m finder(selector)\n\u001b[0;32m    234\u001b[0m     \u001b[39mif\u001b[39;00m \u001b[39mnot\u001b[39;00m \u001b[39misinstance\u001b[39m(elements, \u001b[39mlist\u001b[39m):\n\u001b[0;32m    235\u001b[0m         elements \u001b[39m=\u001b[39m [elements]\n",
      "File \u001b[1;32mc:\\Users\\zanab\\anaconda3\\envs\\PythonData\\lib\\site-packages\\selenium\\webdriver\\remote\\webdriver.py:837\u001b[0m, in \u001b[0;36mWebDriver.find_elements_by_css_selector\u001b[1;34m(self, css_selector)\u001b[0m\n\u001b[0;32m    817\u001b[0m \u001b[39m\"\"\"\u001b[39;00m\n\u001b[0;32m    818\u001b[0m \u001b[39mFinds elements by css selector.\u001b[39;00m\n\u001b[0;32m    819\u001b[0m \n\u001b[1;32m   (...)\u001b[0m\n\u001b[0;32m    830\u001b[0m \u001b[39m        elements = driver.find_elements_by_css_selector('.foo')\u001b[39;00m\n\u001b[0;32m    831\u001b[0m \u001b[39m\"\"\"\u001b[39;00m\n\u001b[0;32m    832\u001b[0m warnings\u001b[39m.\u001b[39mwarn(\n\u001b[0;32m    833\u001b[0m     \u001b[39m\"\u001b[39m\u001b[39mfind_elements_by_css_selector is deprecated. Please use find_elements(by=By.CSS_SELECTOR, value=css_selector) instead\u001b[39m\u001b[39m\"\u001b[39m,\n\u001b[0;32m    834\u001b[0m     \u001b[39mDeprecationWarning\u001b[39;00m,\n\u001b[0;32m    835\u001b[0m     stacklevel\u001b[39m=\u001b[39m\u001b[39m2\u001b[39m,\n\u001b[0;32m    836\u001b[0m )\n\u001b[1;32m--> 837\u001b[0m \u001b[39mreturn\u001b[39;00m \u001b[39mself\u001b[39;49m\u001b[39m.\u001b[39;49mfind_elements(by\u001b[39m=\u001b[39;49mBy\u001b[39m.\u001b[39;49mCSS_SELECTOR, value\u001b[39m=\u001b[39;49mcss_selector)\n",
      "File \u001b[1;32mc:\\Users\\zanab\\anaconda3\\envs\\PythonData\\lib\\site-packages\\selenium\\webdriver\\remote\\webdriver.py:1284\u001b[0m, in \u001b[0;36mWebDriver.find_elements\u001b[1;34m(self, by, value)\u001b[0m\n\u001b[0;32m   1280\u001b[0m     value \u001b[39m=\u001b[39m \u001b[39m'\u001b[39m\u001b[39m[name=\u001b[39m\u001b[39m\"\u001b[39m\u001b[39m%s\u001b[39;00m\u001b[39m\"\u001b[39m\u001b[39m]\u001b[39m\u001b[39m'\u001b[39m \u001b[39m%\u001b[39m value\n\u001b[0;32m   1282\u001b[0m \u001b[39m# Return empty list if driver returns null\u001b[39;00m\n\u001b[0;32m   1283\u001b[0m \u001b[39m# See https://github.com/SeleniumHQ/selenium/issues/4555\u001b[39;00m\n\u001b[1;32m-> 1284\u001b[0m \u001b[39mreturn\u001b[39;00m \u001b[39mself\u001b[39;49m\u001b[39m.\u001b[39;49mexecute(Command\u001b[39m.\u001b[39;49mFIND_ELEMENTS, {\n\u001b[0;32m   1285\u001b[0m     \u001b[39m'\u001b[39;49m\u001b[39musing\u001b[39;49m\u001b[39m'\u001b[39;49m: by,\n\u001b[0;32m   1286\u001b[0m     \u001b[39m'\u001b[39;49m\u001b[39mvalue\u001b[39;49m\u001b[39m'\u001b[39;49m: value})[\u001b[39m'\u001b[39m\u001b[39mvalue\u001b[39m\u001b[39m'\u001b[39m] \u001b[39mor\u001b[39;00m []\n",
      "File \u001b[1;32mc:\\Users\\zanab\\anaconda3\\envs\\PythonData\\lib\\site-packages\\selenium\\webdriver\\remote\\webdriver.py:430\u001b[0m, in \u001b[0;36mWebDriver.execute\u001b[1;34m(self, driver_command, params)\u001b[0m\n\u001b[0;32m    428\u001b[0m response \u001b[39m=\u001b[39m \u001b[39mself\u001b[39m\u001b[39m.\u001b[39mcommand_executor\u001b[39m.\u001b[39mexecute(driver_command, params)\n\u001b[0;32m    429\u001b[0m \u001b[39mif\u001b[39;00m response:\n\u001b[1;32m--> 430\u001b[0m     \u001b[39mself\u001b[39;49m\u001b[39m.\u001b[39;49merror_handler\u001b[39m.\u001b[39;49mcheck_response(response)\n\u001b[0;32m    431\u001b[0m     response[\u001b[39m'\u001b[39m\u001b[39mvalue\u001b[39m\u001b[39m'\u001b[39m] \u001b[39m=\u001b[39m \u001b[39mself\u001b[39m\u001b[39m.\u001b[39m_unwrap_value(\n\u001b[0;32m    432\u001b[0m         response\u001b[39m.\u001b[39mget(\u001b[39m'\u001b[39m\u001b[39mvalue\u001b[39m\u001b[39m'\u001b[39m, \u001b[39mNone\u001b[39;00m))\n\u001b[0;32m    433\u001b[0m     \u001b[39mreturn\u001b[39;00m response\n",
      "File \u001b[1;32mc:\\Users\\zanab\\anaconda3\\envs\\PythonData\\lib\\site-packages\\selenium\\webdriver\\remote\\errorhandler.py:247\u001b[0m, in \u001b[0;36mErrorHandler.check_response\u001b[1;34m(self, response)\u001b[0m\n\u001b[0;32m    245\u001b[0m         alert_text \u001b[39m=\u001b[39m value[\u001b[39m'\u001b[39m\u001b[39malert\u001b[39m\u001b[39m'\u001b[39m]\u001b[39m.\u001b[39mget(\u001b[39m'\u001b[39m\u001b[39mtext\u001b[39m\u001b[39m'\u001b[39m)\n\u001b[0;32m    246\u001b[0m     \u001b[39mraise\u001b[39;00m exception_class(message, screen, stacktrace, alert_text)  \u001b[39m# type: ignore[call-arg]  # mypy is not smart enough here\u001b[39;00m\n\u001b[1;32m--> 247\u001b[0m \u001b[39mraise\u001b[39;00m exception_class(message, screen, stacktrace)\n",
      "\u001b[1;31mNoSuchWindowException\u001b[0m: Message: no such window: target window already closed\nfrom unknown error: web view not found\n  (Session info: chrome=102.0.5005.115)\nStacktrace:\nBacktrace:\n\tOrdinal0 [0x00C2D953+2414931]\n\tOrdinal0 [0x00BBF5E1+1963489]\n\tOrdinal0 [0x00AAC6B8+837304]\n\tOrdinal0 [0x00A94120+737568]\n\tOrdinal0 [0x00AF6E29+1142313]\n\tOrdinal0 [0x00B03FB2+1195954]\n\tOrdinal0 [0x00AF42B6+1131190]\n\tOrdinal0 [0x00ACE860+976992]\n\tOrdinal0 [0x00ACF756+980822]\n\tGetHandleVerifier [0x00E9CC62+2510274]\n\tGetHandleVerifier [0x00E8F760+2455744]\n\tGetHandleVerifier [0x00CBEABA+551962]\n\tGetHandleVerifier [0x00CBD916+547446]\n\tOrdinal0 [0x00BC5F3B+1990459]\n\tOrdinal0 [0x00BCA898+2009240]\n\tOrdinal0 [0x00BCA985+2009477]\n\tOrdinal0 [0x00BD3AD1+2046673]\n\tBaseThreadInitThunk [0x767A6739+25]\n\tRtlGetFullPathName_UEx [0x77D08FEF+1215]\n\tRtlGetFullPathName_UEx [0x77D08FBD+1165]\n"
     ]
    }
   ],
   "source": [
    "# Visit the mars nasa news site\n",
    "url = 'https://redplanetscience.com/'\n",
    "browser.visit(url)\n",
    "\n",
    "# Optional delay for loading the page\n",
    "browser.is_element_present_by_css('div.list_text', wait_time=1)"
   ]
  },
  {
   "cell_type": "code",
   "execution_count": null,
   "metadata": {},
   "outputs": [],
   "source": [
    "# Convert the browser html to a soup object and then quit the browser\n",
    "html = browser.html\n",
    "news_soup = soup(html, 'html.parser')\n",
    "\n",
    "slide_elem = news_soup.select_one('div.list_text')"
   ]
  },
  {
   "cell_type": "code",
   "execution_count": null,
   "metadata": {},
   "outputs": [],
   "source": [
    "slide_elem.find('div', class_='content_title')"
   ]
  },
  {
   "cell_type": "code",
   "execution_count": null,
   "metadata": {},
   "outputs": [],
   "source": [
    "# Use the parent element to find the first a tag and save it as `news_title`\n",
    "news_title = slide_elem.find('div', class_='content_title').get_text()\n",
    "news_title"
   ]
  },
  {
   "cell_type": "code",
   "execution_count": null,
   "metadata": {},
   "outputs": [],
   "source": [
    "# Use the parent element to find the paragraph text\n",
    "news_p = slide_elem.find('div', class_='article_teaser_body').get_text()\n",
    "news_p"
   ]
  },
  {
   "cell_type": "markdown",
   "metadata": {},
   "source": [
    "### JPL Space Images Featured Image"
   ]
  },
  {
   "cell_type": "code",
   "execution_count": null,
   "metadata": {},
   "outputs": [],
   "source": [
    "# Visit URL\n",
    "url = 'https://spaceimages-mars.com'\n",
    "browser.visit(url)"
   ]
  },
  {
   "cell_type": "code",
   "execution_count": null,
   "metadata": {},
   "outputs": [],
   "source": [
    "# Find and click the full image button\n",
    "full_image_elem = browser.find_by_tag('button')[1]\n",
    "full_image_elem.click()"
   ]
  },
  {
   "cell_type": "code",
   "execution_count": null,
   "metadata": {
    "scrolled": true
   },
   "outputs": [],
   "source": [
    "# Parse the resulting html with soup\n",
    "html = browser.html\n",
    "img_soup = soup(html, 'html.parser')\n",
    "img_soup"
   ]
  },
  {
   "cell_type": "code",
   "execution_count": null,
   "metadata": {},
   "outputs": [],
   "source": [
    "# find the relative image url\n",
    "img_url_rel = img_soup.find('img', class_='fancybox-image').get('src')\n",
    "img_url_rel"
   ]
  },
  {
   "cell_type": "code",
   "execution_count": null,
   "metadata": {},
   "outputs": [],
   "source": [
    "# Use the base url to create an absolute url\n",
    "img_url = f'https://spaceimages-mars.com/{img_url_rel}'\n",
    "img_url"
   ]
  },
  {
   "cell_type": "markdown",
   "metadata": {},
   "source": [
    "### Mars Facts"
   ]
  },
  {
   "cell_type": "code",
   "execution_count": null,
   "metadata": {},
   "outputs": [],
   "source": [
    "df = pd.read_html('https://galaxyfacts-mars.com')[0]\n",
    "df.head()"
   ]
  },
  {
   "cell_type": "code",
   "execution_count": null,
   "metadata": {},
   "outputs": [],
   "source": [
    "df.columns=['Description', 'Mars', 'Earth']\n",
    "df.set_index('Description', inplace=True)\n",
    "df"
   ]
  },
  {
   "cell_type": "code",
   "execution_count": null,
   "metadata": {},
   "outputs": [],
   "source": [
    "df.to_html()"
   ]
  },
  {
   "cell_type": "markdown",
   "metadata": {},
   "source": [
    "# D1: Scrape High-Resolution Mars’ Hemisphere Images and Titles"
   ]
  },
  {
   "cell_type": "markdown",
   "metadata": {},
   "source": [
    "### Hemispheres"
   ]
  },
  {
   "cell_type": "code",
   "execution_count": null,
   "metadata": {},
   "outputs": [],
   "source": [
    "# 1. Use browser to visit the URL \n",
    "url = 'https://marshemispheres.com/'\n",
    "\n",
    "browser.visit(url)"
   ]
  },
  {
   "cell_type": "code",
   "execution_count": null,
   "metadata": {},
   "outputs": [],
   "source": [
    "# 2. Create a list to hold the images and titles.\n",
    "hemisphere_image_urls = []\n",
    "\n",
    "# 3. Write code to retrieve the image urls and titles for each hemisphere.\n"
   ]
  },
  {
   "cell_type": "code",
   "execution_count": null,
   "metadata": {},
   "outputs": [],
   "source": [
    "# 4. Print the list that holds the dictionary of each image url and title.\n",
    "hemisphere_image_urls"
   ]
  },
  {
   "cell_type": "code",
   "execution_count": null,
   "metadata": {},
   "outputs": [],
   "source": [
    "# 5. Quit the browser\n",
    "browser.quit()"
   ]
  },
  {
   "cell_type": "code",
   "execution_count": null,
   "metadata": {},
   "outputs": [],
   "source": []
  }
 ],
 "metadata": {
  "kernelspec": {
   "display_name": "Python 3.9.12 ('PythonData')",
   "language": "python",
   "name": "python3"
  },
  "language_info": {
   "codemirror_mode": {
    "name": "ipython",
    "version": 3
   },
   "file_extension": ".py",
   "mimetype": "text/x-python",
   "name": "python",
   "nbconvert_exporter": "python",
   "pygments_lexer": "ipython3",
   "version": "3.9.12"
  },
  "nteract": {
   "version": "0.15.0"
  },
  "vscode": {
   "interpreter": {
    "hash": "0530de74303c2eacbdd8c38c4f23fd594fb528a41af217bdb6501ed47606a495"
   }
  }
 },
 "nbformat": 4,
 "nbformat_minor": 4
}
